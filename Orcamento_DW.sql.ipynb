{
 "cells": [
  {
   "cell_type": "markdown",
   "id": "4a15c003",
   "metadata": {},
   "source": [
    "### Script(DbSchema) criação do Data Warehouse"
   ]
  },
  {
   "cell_type": "markdown",
   "id": "72c972a3",
   "metadata": {},
   "source": [
    "CREATE SCHEMA schemaz;\n",
    "\n",
    "CREATE TABLE schemaz.dim_despesa ( nm_categoria_economica LONGTEXT CHARACTER SET latin1 COLLATE latin1_general_ci , nm_grupo_despesa LONGTEXT CHARACTER SET latin1 COLLATE latin1_general_ci , nm_elemento_despesa LONGTEXT CHARACTER SET latin1 COLLATE latin1_general_ci , id_despesa INT NOT NULL AUTO_INCREMENT PRIMARY KEY ) ENGINE=InnoDB AUTO_INCREMENT=10001 DEFAULT CHARSET=utf8mb4 COLLATE=utf8mb4_0900_ai_ci;\n",
    "\n",
    "CREATE TABLE schemaz.dim_funcao ( id_funcao INT NOT NULL AUTO_INCREMENT PRIMARY KEY, nm_funcao LONGTEXT , nm_sub_funcao LONGTEXT\n",
    ") ENGINE=InnoDB AUTO_INCREMENT=10001 DEFAULT CHARSET=utf8mb4 COLLATE=utf8mb4_0900_ai_ci;\n",
    "\n",
    "CREATE TABLE schemaz.dim_orcamentos ( id_orcamento INT NOT NULL AUTO_INCREMENT PRIMARY KEY, nm_unid_orcamentaria VARCHAR(50) , nm_programa_orcamentario LONGTEXT , nm_acao_orcamentaria LONGTEXT\n",
    ") ENGINE=InnoDB AUTO_INCREMENT=10001 DEFAULT CHARSET=utf8mb4 COLLATE=utf8mb4_0900_ai_ci;\n",
    "\n",
    "CREATE TABLE schemaz.dim_orgao ( nm_orgao_superior LONGTEXT , nm_orgao_subordinado LONGTEXT , id_orgao INT NOT NULL AUTO_INCREMENT PRIMARY KEY ) ENGINE=InnoDB AUTO_INCREMENT=10001 DEFAULT CHARSET=utf8mb4 COLLATE=utf8mb4_0900_ai_ci;\n",
    "\n",
    "CREATE TABLE schemaz.tb_fato ( nmr_orcamento_atualizado VARCHAR(50) , nmr_orcamento_realizado VARCHAR(50) , id_funcao INT , id_orcamento INT , id_despesa INT , id_orgao INT\n",
    ") ENGINE=InnoDB DEFAULT CHARSET=utf8mb4 COLLATE=utf8mb4_0900_ai_ci;\n",
    "\n",
    "CREATE INDEX fk_tb_fato_dim_despesa ON schemaz.tb_fato ( id_despesa );\n",
    "\n",
    "CREATE INDEX fk_tb_fato_dim_orgao ON schemaz.tb_fato ( id_orgao );\n",
    "\n",
    "CREATE INDEX fk_tb_fato_dim_orcamentos ON schemaz.tb_fato ( id_orcamento );\n",
    "\n",
    "CREATE INDEX fk_tb_fato_dim_funcao ON schemaz.tb_fato ( id_funcao );\n",
    "\n",
    "ALTER TABLE schemaz.tb_fato ADD CONSTRAINT fk_tb_fato_dim_despesa FOREIGN KEY ( id_despesa ) REFERENCES schemaz.dim_despesa( id_despesa ) ON DELETE NO ACTION ON UPDATE NO ACTION;\n",
    "\n",
    "ALTER TABLE schemaz.tb_fato ADD CONSTRAINT fk_tb_fato_dim_funcao FOREIGN KEY ( id_funcao ) REFERENCES schemaz.dim_funcao( id_funcao ) ON DELETE NO ACTION ON UPDATE NO ACTION;\n",
    "\n",
    "ALTER TABLE schemaz.tb_fato ADD CONSTRAINT fk_tb_fato_dim_orcamentos FOREIGN KEY ( id_orcamento ) REFERENCES schemaz.dim_orcamentos( id_orcamento ) ON DELETE NO ACTION ON UPDATE NO ACTION;\n",
    "\n",
    "ALTER TABLE schemaz.tb_fato ADD CONSTRAINT fk_tb_fato_dim_orgao FOREIGN KEY ( id_orgao ) REFERENCES schemaz.dim_orgao( id_orgao ) ON DELETE NO ACTION ON UPDATE NO ACTION;\n",
    "\n"
   ]
  },
  {
   "cell_type": "code",
   "execution_count": null,
   "id": "9c244541",
   "metadata": {},
   "outputs": [],
   "source": []
  }
 ],
 "metadata": {
  "kernelspec": {
   "display_name": "Python 3 (ipykernel)",
   "language": "python",
   "name": "python3"
  },
  "language_info": {
   "codemirror_mode": {
    "name": "ipython",
    "version": 3
   },
   "file_extension": ".py",
   "mimetype": "text/x-python",
   "name": "python",
   "nbconvert_exporter": "python",
   "pygments_lexer": "ipython3",
   "version": "3.11.5"
  }
 },
 "nbformat": 4,
 "nbformat_minor": 5
}
